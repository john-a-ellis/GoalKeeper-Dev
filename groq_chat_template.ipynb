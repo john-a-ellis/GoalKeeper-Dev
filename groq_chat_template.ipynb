{
 "cells": [
  {
   "cell_type": "code",
   "execution_count": 8,
   "id": "f05ccbb9-eaeb-458d-b543-27bc97503cb5",
   "metadata": {},
   "outputs": [],
   "source": [
    "import os\n",
    "from langchain_groq import ChatGroq\n",
    "from langchain_huggingface import HuggingFaceEndpoint, ChatHuggingFace\n",
    "from langchain_core.prompts import ChatPromptTemplate\n",
    "from langchain_core.output_parsers import StrOutputParser\n",
    "from langchain.memory import ChatMessageHistory, ConversationBufferMemory\n",
    "from langchain_community.vectorstores import Chroma\n",
    "from langchain_core.runnables import RunnableSequence, RunnablePassthrough\n",
    "from dotenv import load_dotenv, find_dotenv\n",
    "_=load_dotenv(find_dotenv())\n",
    "apikey = os.environ['GROQ_API_KEY']"
   ]
  },
  {
   "cell_type": "code",
   "execution_count": 2,
   "id": "eb84eecb-b89d-4bcd-bed2-feb66f45cecb",
   "metadata": {},
   "outputs": [],
   "source": [
    "# Create a chat prompt template for goal-setting\n",
    "llm = ChatGroq(\n",
    "    model_name=\"llama-3.1-8b-Instant\",  # or \"mixtral-8x7b-32768\" or another available model\n",
    "    temperature=0.7,\n",
    "    max_tokens=2048\n",
    ")\n"
   ]
  },
  {
   "cell_type": "code",
   "execution_count": null,
   "id": "8d298051-2f8e-4b7e-8dc4-e0811b737e2a",
   "metadata": {},
   "outputs": [],
   "source": [
    "# Initialize embeddings\n",
    "embeddings = HuggingFaceEmbeddings()"
   ]
  },
  {
   "cell_type": "code",
   "execution_count": null,
   "id": "2099a6d6-84fe-4bd7-ad12-769450aa07a6",
   "metadata": {},
   "outputs": [],
   "source": [
    "# Set up the persistent Chroma vector store\n",
    "PERSIST_DIRECTORY = \"data\""
   ]
  },
  {
   "cell_type": "code",
   "execution_count": null,
   "id": "d2b0bb0f-ee1f-4775-ac5f-668aac2fa68b",
   "metadata": {},
   "outputs": [],
   "source": [
    "vectorstore = Chroma(persist_directory=PERSIST_DIRECTORY, embedding_function=embeddings)"
   ]
  },
  {
   "cell_type": "code",
   "execution_count": null,
   "id": "51735e2d-ebf6-4531-aa3d-a6f5bc92191e",
   "metadata": {},
   "outputs": [],
   "source": [
    "client = chromadb.PersistentClient(path = \"data\")"
   ]
  },
  {
   "cell_type": "code",
   "execution_count": 3,
   "id": "784b35e5-4a36-407f-9125-df2c526886d5",
   "metadata": {},
   "outputs": [],
   "source": [
    "prompt = ChatPromptTemplate.from_messages([\n",
    "    (\"system\", \"You are an AI assistant that helps users break down their goals into actionable steps.\"),\n",
    "    (\"human\", \"I want to achieve the following goal: {current_goal}. Can you help me break this down into smaller, actionable steps?\"),\n",
    "])\n"
   ]
  },
  {
   "cell_type": "code",
   "execution_count": 4,
   "id": "8b3694f9-d798-40bd-8de7-e83a6873ed07",
   "metadata": {},
   "outputs": [],
   "source": [
    "# Set up conversation memory\n",
    "message_history = ChatMessageHistory()\n",
    "memory = ConversationBufferMemory(\n",
    "    chat_memory=message_history,\n",
    "    return_messages=True,\n",
    "    output_key=\"output\"\n",
    ")"
   ]
  },
  {
   "cell_type": "code",
   "execution_count": 5,
   "id": "41f17ac5-5b56-4135-804d-d262fb0c459d",
   "metadata": {},
   "outputs": [],
   "source": [
    "# Create a chain for goal-setting\n",
    "def load_memory(input_dict):\n",
    "    memory_variables = memory.load_memory_variables({})\n",
    "    return {\"chat_history\": memory_variables[\"history\"]}"
   ]
  },
  {
   "cell_type": "code",
   "execution_count": 6,
   "id": "00668c1b-f41e-4d1a-b432-e03729700e6c",
   "metadata": {},
   "outputs": [],
   "source": [
    "chain = (\n",
    "    RunnablePassthrough.assign(chat_history=load_memory)\n",
    "    | prompt\n",
    "    | llm\n",
    "    | StrOutputParser()\n",
    ")\n"
   ]
  },
  {
   "cell_type": "code",
   "execution_count": null,
   "id": "62ffd129-b84d-4118-ad72-500455b42f23",
   "metadata": {},
   "outputs": [],
   "source": [
    "# Example usage\n",
    "user_goal = \"  \"\n",
    "response = chain.invoke({\"current_goal\": user_goal})\n",
    "\n",
    "print(response)"
   ]
  },
  {
   "cell_type": "code",
   "execution_count": null,
   "id": "c656ae38-99fd-40ce-8aed-a54a591e5dbd",
   "metadata": {},
   "outputs": [],
   "source": [
    "# Save the conversation to memory\n",
    "memory.save_context({\"input\": user_goal}, {\"output\": response})\n",
    "\n",
    "# Example of retrieving memory\n",
    "print(\"\\nConversation History:\")\n",
    "for message in message_history.messages:\n",
    "    print(f\"{message.type}: {message.content}\")"
   ]
  },
  {
   "cell_type": "code",
   "execution_count": null,
   "id": "4326ffff-e7c9-45d0-afa3-345979c6d187",
   "metadata": {},
   "outputs": [],
   "source": [
    "prompt_template.messages[0].prompt"
   ]
  },
  {
   "cell_type": "code",
   "execution_count": null,
   "id": "932177ae-48cd-4312-83e3-36d472f957da",
   "metadata": {},
   "outputs": [],
   "source": [
    "customer_messages = prompt_template.format_messages(\n",
    "                    style=customer_style,\n",
    "                    text=customer_email)"
   ]
  },
  {
   "cell_type": "code",
   "execution_count": null,
   "id": "73ff3086-73d7-4825-9b93-8f5418973f70",
   "metadata": {},
   "outputs": [],
   "source": [
    "print(type(customer_messages))\n",
    "print(type(customer_messages[0]))"
   ]
  },
  {
   "cell_type": "code",
   "execution_count": null,
   "id": "1079e381-11dc-40a5-8a36-ae3872bc7668",
   "metadata": {},
   "outputs": [],
   "source": [
    "print(customer_messages[0])"
   ]
  },
  {
   "cell_type": "code",
   "execution_count": null,
   "id": "e6efa6d8-4fd6-45f9-a357-337f32db719e",
   "metadata": {},
   "outputs": [],
   "source": [
    "customer_response = chat(customer_messages)"
   ]
  },
  {
   "cell_type": "code",
   "execution_count": null,
   "id": "43b02da5-c88d-4b3c-9ff0-cd8afdda03cf",
   "metadata": {},
   "outputs": [],
   "source": [
    "print(customer_response.content)"
   ]
  },
  {
   "cell_type": "code",
   "execution_count": null,
   "id": "e55ac4cc-4511-4cd0-b751-04b7ac650cc0",
   "metadata": {},
   "outputs": [],
   "source": [
    "service_reply = \"\"\"Hey there customer, \\\n",
    "the warranty does not cover \\\n",
    "cleaning expenses for your kitchen \\\n",
    "because it's your fault that \\\n",
    "you misused your blender \\\n",
    "by forgetting to put the lid on before \\\n",
    "starting the blender. \\\n",
    "Tough luck! See ya!\n",
    "\"\"\""
   ]
  },
  {
   "cell_type": "code",
   "execution_count": null,
   "id": "40c8e371-11ef-4238-bb57-ce65e73c71be",
   "metadata": {},
   "outputs": [],
   "source": [
    "service_style_pirate = \"\"\"\\\n",
    "a polite tone \\\n",
    "that speaks in English Pirate\\\n",
    "\"\"\""
   ]
  },
  {
   "cell_type": "code",
   "execution_count": null,
   "id": "70813b58-9ef4-4a48-bf6e-04384d7c7bc0",
   "metadata": {},
   "outputs": [],
   "source": [
    "service_messages = prompt_template.format_messages(\n",
    "    style=service_style_pirate,\n",
    "    text=service_reply)\n",
    "\n",
    "print(service_messages[0].content)"
   ]
  },
  {
   "cell_type": "code",
   "execution_count": null,
   "id": "4c63b009-021a-4e01-afb9-b6cf3484ff15",
   "metadata": {},
   "outputs": [],
   "source": [
    "service_response = chat(service_messages)\n",
    "print(service_response.content)"
   ]
  },
  {
   "cell_type": "code",
   "execution_count": null,
   "id": "17be638f-c284-4127-9e34-34caa9c74cd2",
   "metadata": {},
   "outputs": [],
   "source": [
    "%pip install --upgrade --quiet langchain-community arxiv"
   ]
  },
  {
   "cell_type": "code",
   "execution_count": null,
   "id": "909cb107-0ec6-4f8f-963d-ff2b86edb763",
   "metadata": {},
   "outputs": [],
   "source": []
  }
 ],
 "metadata": {
  "kernelspec": {
   "display_name": "Python 3 (ipykernel)",
   "language": "python",
   "name": "python3"
  },
  "language_info": {
   "codemirror_mode": {
    "name": "ipython",
    "version": 3
   },
   "file_extension": ".py",
   "mimetype": "text/x-python",
   "name": "python",
   "nbconvert_exporter": "python",
   "pygments_lexer": "ipython3",
   "version": "3.12.3"
  },
  "widgets": {
   "application/vnd.jupyter.widget-state+json": {
    "state": {},
    "version_major": 2,
    "version_minor": 0
   }
  }
 },
 "nbformat": 4,
 "nbformat_minor": 5
}
